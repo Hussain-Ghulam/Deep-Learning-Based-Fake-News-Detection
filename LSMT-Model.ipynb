{
 "cells": [
  {
   "cell_type": "code",
   "execution_count": 52,
   "id": "a4ec37b9",
   "metadata": {},
   "outputs": [],
   "source": [
    "#Important libraries\n",
    "import os\n",
    "import sys\n",
    "import math\n",
    "import pandas as pd\n",
    "import numpy as np\n",
    "import tensorflow as tf\n",
    "import matplotlib.pyplot as plt\n",
    "import seaborn as sns\n",
    "import tensorflow as tf\n",
    "import matplotlib.patches as mpatches\n",
    "import nltk\n",
    "\n",
    "from nltk.corpus import stopwords\n",
    "from sklearn.model_selection import train_test_split\n",
    "from sklearn.preprocessing import LabelEncoder\n",
    "from tensorflow.keras.models import Model\n",
    "from tensorflow.keras.layers import LSTM, Activation, Dense, Dropout, Input, Embedding\n",
    "from tensorflow.keras.optimizers import RMSprop\n",
    "from tensorflow.keras.preprocessing.text import Tokenizer\n",
    "from tensorflow.keras.preprocessing import sequence\n",
    "from tensorflow.keras.utils import to_categorical\n",
    "from tensorflow.keras.callbacks import EarlyStopping"
   ]
  },
  {
   "cell_type": "code",
   "execution_count": 53,
   "id": "61c2b565",
   "metadata": {},
   "outputs": [],
   "source": [
    "#Import Dataset\n",
    "train_df = pd.read_csv('train.tsv', delimiter='\\t', header = None)\n",
    "valid_df = pd.read_csv('valid.tsv', delimiter='\\t', header = None)\n",
    "test_df = pd.read_csv('test.tsv', delimiter='\\t', header = None)"
   ]
  },
  {
   "cell_type": "code",
   "execution_count": 54,
   "id": "7039fb4c",
   "metadata": {},
   "outputs": [
    {
     "data": {
      "text/html": [
       "<div>\n",
       "<style scoped>\n",
       "    .dataframe tbody tr th:only-of-type {\n",
       "        vertical-align: middle;\n",
       "    }\n",
       "\n",
       "    .dataframe tbody tr th {\n",
       "        vertical-align: top;\n",
       "    }\n",
       "\n",
       "    .dataframe thead th {\n",
       "        text-align: right;\n",
       "    }\n",
       "</style>\n",
       "<table border=\"1\" class=\"dataframe\">\n",
       "  <thead>\n",
       "    <tr style=\"text-align: right;\">\n",
       "      <th></th>\n",
       "      <th>0</th>\n",
       "      <th>1</th>\n",
       "      <th>2</th>\n",
       "      <th>3</th>\n",
       "      <th>4</th>\n",
       "      <th>5</th>\n",
       "      <th>6</th>\n",
       "      <th>7</th>\n",
       "      <th>8</th>\n",
       "      <th>9</th>\n",
       "      <th>10</th>\n",
       "      <th>11</th>\n",
       "      <th>12</th>\n",
       "      <th>13</th>\n",
       "    </tr>\n",
       "  </thead>\n",
       "  <tbody>\n",
       "    <tr>\n",
       "      <th>0</th>\n",
       "      <td>11972.json</td>\n",
       "      <td>true</td>\n",
       "      <td>Building a wall on the U.S.-Mexico border will...</td>\n",
       "      <td>immigration</td>\n",
       "      <td>rick-perry</td>\n",
       "      <td>Governor</td>\n",
       "      <td>Texas</td>\n",
       "      <td>republican</td>\n",
       "      <td>30</td>\n",
       "      <td>30</td>\n",
       "      <td>42</td>\n",
       "      <td>23</td>\n",
       "      <td>18</td>\n",
       "      <td>Radio interview</td>\n",
       "    </tr>\n",
       "    <tr>\n",
       "      <th>1</th>\n",
       "      <td>11685.json</td>\n",
       "      <td>false</td>\n",
       "      <td>Wisconsin is on pace to double the number of l...</td>\n",
       "      <td>jobs</td>\n",
       "      <td>katrina-shankland</td>\n",
       "      <td>State representative</td>\n",
       "      <td>Wisconsin</td>\n",
       "      <td>democrat</td>\n",
       "      <td>2</td>\n",
       "      <td>1</td>\n",
       "      <td>0</td>\n",
       "      <td>0</td>\n",
       "      <td>0</td>\n",
       "      <td>a news conference</td>\n",
       "    </tr>\n",
       "    <tr>\n",
       "      <th>2</th>\n",
       "      <td>11096.json</td>\n",
       "      <td>false</td>\n",
       "      <td>Says John McCain has done nothing to help the ...</td>\n",
       "      <td>military,veterans,voting-record</td>\n",
       "      <td>donald-trump</td>\n",
       "      <td>President-Elect</td>\n",
       "      <td>New York</td>\n",
       "      <td>republican</td>\n",
       "      <td>63</td>\n",
       "      <td>114</td>\n",
       "      <td>51</td>\n",
       "      <td>37</td>\n",
       "      <td>61</td>\n",
       "      <td>comments on ABC's This Week.</td>\n",
       "    </tr>\n",
       "    <tr>\n",
       "      <th>3</th>\n",
       "      <td>5209.json</td>\n",
       "      <td>half-true</td>\n",
       "      <td>Suzanne Bonamici supports a plan that will cut...</td>\n",
       "      <td>medicare,message-machine-2012,campaign-adverti...</td>\n",
       "      <td>rob-cornilles</td>\n",
       "      <td>consultant</td>\n",
       "      <td>Oregon</td>\n",
       "      <td>republican</td>\n",
       "      <td>1</td>\n",
       "      <td>1</td>\n",
       "      <td>3</td>\n",
       "      <td>1</td>\n",
       "      <td>1</td>\n",
       "      <td>a radio show</td>\n",
       "    </tr>\n",
       "    <tr>\n",
       "      <th>4</th>\n",
       "      <td>9524.json</td>\n",
       "      <td>pants-fire</td>\n",
       "      <td>When asked by a reporter whether hes at the ce...</td>\n",
       "      <td>campaign-finance,legal-issues,campaign-adverti...</td>\n",
       "      <td>state-democratic-party-wisconsin</td>\n",
       "      <td>NaN</td>\n",
       "      <td>Wisconsin</td>\n",
       "      <td>democrat</td>\n",
       "      <td>5</td>\n",
       "      <td>7</td>\n",
       "      <td>2</td>\n",
       "      <td>2</td>\n",
       "      <td>7</td>\n",
       "      <td>a web video</td>\n",
       "    </tr>\n",
       "  </tbody>\n",
       "</table>\n",
       "</div>"
      ],
      "text/plain": [
       "           0           1                                                  2   \\\n",
       "0  11972.json        true  Building a wall on the U.S.-Mexico border will...   \n",
       "1  11685.json       false  Wisconsin is on pace to double the number of l...   \n",
       "2  11096.json       false  Says John McCain has done nothing to help the ...   \n",
       "3   5209.json   half-true  Suzanne Bonamici supports a plan that will cut...   \n",
       "4   9524.json  pants-fire  When asked by a reporter whether hes at the ce...   \n",
       "\n",
       "                                                  3   \\\n",
       "0                                        immigration   \n",
       "1                                               jobs   \n",
       "2                    military,veterans,voting-record   \n",
       "3  medicare,message-machine-2012,campaign-adverti...   \n",
       "4  campaign-finance,legal-issues,campaign-adverti...   \n",
       "\n",
       "                                 4                     5          6   \\\n",
       "0                        rick-perry              Governor      Texas   \n",
       "1                 katrina-shankland  State representative  Wisconsin   \n",
       "2                      donald-trump       President-Elect   New York   \n",
       "3                     rob-cornilles            consultant     Oregon   \n",
       "4  state-democratic-party-wisconsin                   NaN  Wisconsin   \n",
       "\n",
       "           7   8    9   10  11  12                            13  \n",
       "0  republican  30   30  42  23  18               Radio interview  \n",
       "1    democrat   2    1   0   0   0             a news conference  \n",
       "2  republican  63  114  51  37  61  comments on ABC's This Week.  \n",
       "3  republican   1    1   3   1   1                  a radio show  \n",
       "4    democrat   5    7   2   2   7                   a web video  "
      ]
     },
     "execution_count": 54,
     "metadata": {},
     "output_type": "execute_result"
    }
   ],
   "source": [
    "#Load dataset\n",
    "test_df.head()"
   ]
  },
  {
   "cell_type": "code",
   "execution_count": 55,
   "id": "32683952",
   "metadata": {},
   "outputs": [],
   "source": [
    "#Parameters Settings\n",
    "def map_f(x):\n",
    "    '''\n",
    "    Mapping the label column.\n",
    "    \n",
    "    The function maps 'mostly-true' and 'true' from the label column to 0 \n",
    "    and rest to 1. This creates a classification target as required for \n",
    "    the problem.\n",
    "    \n",
    "    Parameters\n",
    "    ----------\n",
    "    x : Variable from pandas Series\n",
    "    \n",
    "    Returns\n",
    "    -------\n",
    "    None\n",
    "    '''\n",
    "    if x=='mostly-true' or x == 'true':\n",
    "        return 0\n",
    "    else:\n",
    "        return 1\n",
    "    \n",
    "train = pd.DataFrame()\n",
    "valid = pd.DataFrame()\n",
    "test = pd.DataFrame()\n",
    "\n",
    "train['text'] = train_df[2]\n",
    "train['label'] = train_df[1].apply(map_f)\n",
    "\n",
    "valid['text'] = valid_df[2]\n",
    "valid['label'] = valid_df[1].apply(map_f)\n",
    "\n",
    "test['text'] = train_df[2]\n",
    "test['label'] = test_df[1].apply(map_f)\n"
   ]
  },
  {
   "cell_type": "code",
   "execution_count": 56,
   "id": "71eac6f5",
   "metadata": {},
   "outputs": [
    {
     "data": {
      "text/plain": [
       "(10240, 1284, 10240)"
      ]
     },
     "execution_count": 56,
     "metadata": {},
     "output_type": "execute_result"
    }
   ],
   "source": [
    "#Check Length\n",
    "len(train), len(valid), len(test)"
   ]
  },
  {
   "cell_type": "code",
   "execution_count": 57,
   "id": "fe8895e6",
   "metadata": {},
   "outputs": [],
   "source": [
    "#Merge Data colums\n",
    "X_train = pd.concat([train, valid])['text']\n",
    "Y_train = pd.concat([train, valid])['label']\n",
    "X_test = test['text']\n",
    "Y_test = test['label']"
   ]
  },
  {
   "cell_type": "code",
   "execution_count": 58,
   "id": "28cf6720",
   "metadata": {},
   "outputs": [
    {
     "name": "stderr",
     "output_type": "stream",
     "text": [
      "C:\\Users\\ghussain\\anaconda3\\lib\\site-packages\\seaborn\\_decorators.py:36: FutureWarning: Pass the following variable as a keyword arg: x. From version 0.12, the only valid positional argument will be `data`, and passing other arguments without an explicit keyword will result in an error or misinterpretation.\n",
      "  warnings.warn(\n"
     ]
    },
    {
     "data": {
      "text/plain": [
       "Text(0.5, 1.0, 'Number of real and fake news')"
      ]
     },
     "execution_count": 58,
     "metadata": {},
     "output_type": "execute_result"
    },
    {
     "data": {
      "image/png": "[encoded data removed]",
      "text/plain": [
       "<Figure size 432x288 with 1 Axes>"
      ]
     },
     "metadata": {
      "needs_background": "light"
     },
     "output_type": "display_data"
    }
   ],
   "source": [
    "#Graphical Presentation\n",
    "sns.countplot(Y_train)\n",
    "plt.xlabel('Label')\n",
    "plt.title('Number of real and fake news')"
   ]
  },
  {
   "cell_type": "code",
   "execution_count": 59,
   "id": "a6206ed2",
   "metadata": {},
   "outputs": [],
   "source": [
    "#Parameters\n",
    "max_words = 1000\n",
    "max_len = 150\n",
    "tok = Tokenizer(num_words=max_words)\n",
    "tok.fit_on_texts(X_train)\n",
    "sequences = tok.texts_to_sequences(X_train)\n",
    "sequences_matrix = sequence.pad_sequences(sequences,maxlen=max_len)"
   ]
  },
  {
   "cell_type": "code",
   "execution_count": 60,
   "id": "95d3871f",
   "metadata": {},
   "outputs": [],
   "source": [
    "#Define LSTM Model\n",
    "def LSTM_model():\n",
    "    '''\n",
    "    Builds the LSTM Network.\n",
    "    \n",
    "    The function builds LSTM network by taking word embeddings as input and\n",
    "    using LSTM, Dense, Dropout, Dense layer in the specified order. 'ReLU'\n",
    "    is used as activation function in the network and 'sigmoid' is used as\n",
    "    activation function for the classification layer.\n",
    "    \n",
    "    Parameters\n",
    "    ----------\n",
    "    None\n",
    "    '''\n",
    "    inputs = Input(name='inputs',shape=[max_len])\n",
    "    layer = Embedding(max_words,50,input_length=max_len)(inputs)\n",
    "    layer = LSTM(64)(layer)\n",
    "    layer = Dense(256,name='FC1')(layer)\n",
    "    layer = Activation('relu')(layer)\n",
    "    layer = Dropout(0.5)(layer)\n",
    "    layer = Dense(1,name='out_layer')(layer)\n",
    "    layer = Activation('sigmoid')(layer)\n",
    "    model = Model(inputs=inputs,outputs=layer)\n",
    "    return model"
   ]
  },
  {
   "cell_type": "code",
   "execution_count": 61,
   "id": "8b1f0047",
   "metadata": {},
   "outputs": [
    {
     "name": "stdout",
     "output_type": "stream",
     "text": [
      "Model: \"model_3\"\n",
      "_________________________________________________________________\n",
      " Layer (type)                Output Shape              Param #   \n",
      "=================================================================\n",
      " inputs (InputLayer)         [(None, 150)]             0         \n",
      "                                                                 \n",
      " embedding_3 (Embedding)     (None, 150, 50)           50000     \n",
      "                                                                 \n",
      " lstm_3 (LSTM)               (None, 64)                29440     \n",
      "                                                                 \n",
      " FC1 (Dense)                 (None, 256)               16640     \n",
      "                                                                 \n",
      " activation_6 (Activation)   (None, 256)               0         \n",
      "                                                                 \n",
      " dropout_3 (Dropout)         (None, 256)               0         \n",
      "                                                                 \n",
      " out_layer (Dense)           (None, 1)                 257       \n",
      "                                                                 \n",
      " activation_7 (Activation)   (None, 1)                 0         \n",
      "                                                                 \n",
      "=================================================================\n",
      "Total params: 96,337\n",
      "Trainable params: 96,337\n",
      "Non-trainable params: 0\n",
      "_________________________________________________________________\n"
     ]
    }
   ],
   "source": [
    "#Check Parameters\n",
    "model = LSTM_model()\n",
    "model.summary()\n",
    "model.compile(loss='binary_crossentropy',optimizer=RMSprop(),metrics=['accuracy'])"
   ]
  },
  {
   "cell_type": "code",
   "execution_count": 62,
   "id": "fe85948f",
   "metadata": {},
   "outputs": [
    {
     "name": "stdout",
     "output_type": "stream",
     "text": [
      "Epoch 1/20\n",
      "73/73 [==============================] - 3s 24ms/step - loss: 0.6491 - accuracy: 0.6397 - val_loss: 0.7014 - val_accuracy: 0.6642\n",
      "Epoch 2/20\n",
      "73/73 [==============================] - 1s 18ms/step - loss: 0.6178 - accuracy: 0.6610 - val_loss: 0.6173 - val_accuracy: 0.6711\n",
      "Epoch 3/20\n",
      "73/73 [==============================] - 1s 18ms/step - loss: 0.5979 - accuracy: 0.6822 - val_loss: 0.6648 - val_accuracy: 0.6681\n",
      "Epoch 4/20\n",
      "73/73 [==============================] - 1s 18ms/step - loss: 0.5856 - accuracy: 0.6966 - val_loss: 0.6238 - val_accuracy: 0.6529\n",
      "Epoch 5/20\n",
      "73/73 [==============================] - 1s 18ms/step - loss: 0.5767 - accuracy: 0.7027 - val_loss: 0.6308 - val_accuracy: 0.6521\n",
      "Epoch 6/20\n",
      "73/73 [==============================] - 1s 18ms/step - loss: 0.5659 - accuracy: 0.7145 - val_loss: 0.6264 - val_accuracy: 0.6607\n",
      "Epoch 7/20\n",
      "73/73 [==============================] - 1s 18ms/step - loss: 0.5549 - accuracy: 0.7212 - val_loss: 0.7014 - val_accuracy: 0.5892\n",
      "Epoch 8/20\n",
      "73/73 [==============================] - 1s 18ms/step - loss: 0.5424 - accuracy: 0.7339 - val_loss: 0.7305 - val_accuracy: 0.6347\n",
      "Epoch 9/20\n",
      "73/73 [==============================] - 1s 18ms/step - loss: 0.5355 - accuracy: 0.7392 - val_loss: 0.6825 - val_accuracy: 0.6495\n",
      "Epoch 10/20\n",
      "73/73 [==============================] - 1s 18ms/step - loss: 0.5258 - accuracy: 0.7483 - val_loss: 0.7272 - val_accuracy: 0.6412\n",
      "Epoch 11/20\n",
      "73/73 [==============================] - 1s 18ms/step - loss: 0.5133 - accuracy: 0.7544 - val_loss: 0.6951 - val_accuracy: 0.6325\n",
      "Epoch 12/20\n",
      "73/73 [==============================] - 1s 18ms/step - loss: 0.5034 - accuracy: 0.7642 - val_loss: 0.7377 - val_accuracy: 0.6312\n",
      "Epoch 13/20\n",
      "73/73 [==============================] - 1s 18ms/step - loss: 0.4929 - accuracy: 0.7721 - val_loss: 1.3705 - val_accuracy: 0.3479\n",
      "Epoch 14/20\n",
      "73/73 [==============================] - 1s 18ms/step - loss: 0.5014 - accuracy: 0.7645 - val_loss: 0.7358 - val_accuracy: 0.6317\n",
      "Epoch 15/20\n",
      "73/73 [==============================] - 1s 18ms/step - loss: 0.4762 - accuracy: 0.7819 - val_loss: 0.7089 - val_accuracy: 0.6195\n",
      "Epoch 16/20\n",
      "73/73 [==============================] - 1s 18ms/step - loss: 0.4830 - accuracy: 0.7832 - val_loss: 0.7958 - val_accuracy: 0.6364\n",
      "Epoch 17/20\n",
      "73/73 [==============================] - 1s 18ms/step - loss: 0.4591 - accuracy: 0.7891 - val_loss: 0.7593 - val_accuracy: 0.6169\n",
      "Epoch 18/20\n",
      "73/73 [==============================] - 1s 18ms/step - loss: 0.4476 - accuracy: 0.7937 - val_loss: 0.8136 - val_accuracy: 0.6351\n",
      "Epoch 19/20\n",
      "73/73 [==============================] - 1s 18ms/step - loss: 0.4357 - accuracy: 0.8008 - val_loss: 0.8178 - val_accuracy: 0.6286\n",
      "Epoch 20/20\n",
      "73/73 [==============================] - 1s 17ms/step - loss: 0.4224 - accuracy: 0.8074 - val_loss: 1.1310 - val_accuracy: 0.6191\n"
     ]
    },
    {
     "data": {
      "text/plain": [
       "<keras.callbacks.History at 0x201cfe32c40>"
      ]
     },
     "execution_count": 62,
     "metadata": {},
     "output_type": "execute_result"
    }
   ],
   "source": [
    "#Experiment\n",
    "model.fit(sequences_matrix,Y_train,batch_size=128,epochs=20,validation_split=0.2)"
   ]
  },
  {
   "cell_type": "code",
   "execution_count": 63,
   "id": "db3af182",
   "metadata": {},
   "outputs": [],
   "source": [
    "#Results \n",
    "X_test = X_test[:1267]\n",
    "Y_test = Y_test[:1267]"
   ]
  },
  {
   "cell_type": "code",
   "execution_count": 64,
   "id": "d37b7426",
   "metadata": {},
   "outputs": [],
   "source": [
    "test_sequences = tok.texts_to_sequences(X_test)\n",
    "test_sequences_matrix = sequence.pad_sequences(test_sequences,maxlen=max_len)"
   ]
  },
  {
   "cell_type": "code",
   "execution_count": 65,
   "id": "5d9765e2",
   "metadata": {},
   "outputs": [],
   "source": [
    "y_pred = model.predict(test_sequences_matrix)\n",
    "y_pred = y_pred.argmax(axis=-1)"
   ]
  },
  {
   "cell_type": "code",
   "execution_count": 66,
   "id": "947c5277",
   "metadata": {},
   "outputs": [
    {
     "name": "stdout",
     "output_type": "stream",
     "text": [
      "              precision    recall  f1-score   support\n",
      "\n",
      "         0.0       0.35      1.00      0.52       449\n",
      "         1.0       0.00      0.00      0.00       818\n",
      "\n",
      "    accuracy                           0.35      1267\n",
      "   macro avg       0.18      0.50      0.26      1267\n",
      "weighted avg       0.13      0.35      0.19      1267\n",
      "\n"
     ]
    },
    {
     "name": "stderr",
     "output_type": "stream",
     "text": [
      "C:\\Users\\ghussain\\anaconda3\\lib\\site-packages\\sklearn\\metrics\\_classification.py:1248: UndefinedMetricWarning: Precision and F-score are ill-defined and being set to 0.0 in labels with no predicted samples. Use `zero_division` parameter to control this behavior.\n",
      "  _warn_prf(average, modifier, msg_start, len(result))\n",
      "C:\\Users\\ghussain\\anaconda3\\lib\\site-packages\\sklearn\\metrics\\_classification.py:1248: UndefinedMetricWarning: Precision and F-score are ill-defined and being set to 0.0 in labels with no predicted samples. Use `zero_division` parameter to control this behavior.\n",
      "  _warn_prf(average, modifier, msg_start, len(result))\n",
      "C:\\Users\\ghussain\\anaconda3\\lib\\site-packages\\sklearn\\metrics\\_classification.py:1248: UndefinedMetricWarning: Precision and F-score are ill-defined and being set to 0.0 in labels with no predicted samples. Use `zero_division` parameter to control this behavior.\n",
      "  _warn_prf(average, modifier, msg_start, len(result))\n"
     ]
    }
   ],
   "source": [
    "#Accuracy,F1 Score\n",
    "from sklearn.metrics import classification_report\n",
    "print(classification_report(Y_test.fillna(0), y_pred))"
   ]
  },
  {
   "cell_type": "code",
   "execution_count": 67,
   "id": "6ef6f7f9",
   "metadata": {},
   "outputs": [],
   "source": [
    "#Good**Luck"
   ]
  },
  {
   "cell_type": "code",
   "execution_count": null,
   "id": "7b9048bb",
   "metadata": {},
   "outputs": [],
   "source": []
  }
 ],
 "metadata": {
  "kernelspec": {
   "display_name": "Python 3 (ipykernel)",
   "language": "python",
   "name": "python3"
  },
  "language_info": {
   "codemirror_mode": {
    "name": "ipython",
    "version": 3
   },
   "file_extension": ".py",
   "mimetype": "text/x-python",
   "name": "python",
   "nbconvert_exporter": "python",
   "pygments_lexer": "ipython3",
   "version": "3.9.7"
  }
 },
 "nbformat": 4,
 "nbformat_minor": 5
}
